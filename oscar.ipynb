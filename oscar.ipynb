{
 "cells": [
  {
   "cell_type": "code",
   "execution_count": 1,
   "metadata": {},
   "outputs": [],
   "source": [
    "import requests\n",
    "import re\n",
    "url = \"https://en.wikipedia.org/wiki/91st_Academy_Awards\"\n"
   ]
  },
  {
   "cell_type": "code",
   "execution_count": 2,
   "metadata": {},
   "outputs": [],
   "source": [
    "page = requests.get(url).text"
   ]
  },
  {
   "cell_type": "code",
   "execution_count": 3,
   "metadata": {},
   "outputs": [],
   "source": [
    "tables = re.findall(r\"\\<table(.*?)\\</table\\>\", page, re.DOTALL)"
   ]
  },
  {
   "cell_type": "code",
   "execution_count": 4,
   "metadata": {},
   "outputs": [],
   "source": [
    "my_table = tables[1] "
   ]
  },
  {
   "cell_type": "code",
   "execution_count": 5,
   "metadata": {},
   "outputs": [],
   "source": [
    "#tables[1]"
   ]
  },
  {
   "cell_type": "code",
   "execution_count": 6,
   "metadata": {},
   "outputs": [],
   "source": [
    "categories = re.findall(r\"\\>[A-Za-z0-9\\s]+\\</a\\>\\</b\\>\\</div\\>\", my_table, re.DOTALL)"
   ]
  },
  {
   "cell_type": "code",
   "execution_count": 7,
   "metadata": {},
   "outputs": [
    {
     "data": {
      "text/plain": [
       "['>Best Picture</a></b></div>',\n",
       " '>Best Director</a></b></div>',\n",
       " '>Best Actor</a></b></div>',\n",
       " '>Best Actress</a></b></div>',\n",
       " '>Best Supporting Actor</a></b></div>',\n",
       " '>Best Supporting Actress</a></b></div>',\n",
       " '>Best Original Screenplay</a></b></div>',\n",
       " '>Best Adapted Screenplay</a></b></div>',\n",
       " '>Best Animated Feature Film</a></b></div>',\n",
       " '>Best Foreign Language Film</a></b></div>',\n",
       " '>Best Live Action Short Film</a></b></div>',\n",
       " '>Best Animated Short Film</a></b></div>',\n",
       " '>Best Original Score</a></b></div>',\n",
       " '>Best Original Song</a></b></div>',\n",
       " '>Best Sound Editing</a></b></div>',\n",
       " '>Best Sound Mixing</a></b></div>',\n",
       " '>Best Production Design</a></b></div>',\n",
       " '>Best Cinematography</a></b></div>',\n",
       " '>Best Makeup and Hairstyling</a></b></div>',\n",
       " '>Best Costume Design</a></b></div>',\n",
       " '>Best Film Editing</a></b></div>',\n",
       " '>Best Visual Effects</a></b></div>']"
      ]
     },
     "execution_count": 7,
     "metadata": {},
     "output_type": "execute_result"
    }
   ],
   "source": [
    "categories"
   ]
  },
  {
   "cell_type": "code",
   "execution_count": 8,
   "metadata": {},
   "outputs": [],
   "source": [
    "# dict_oscars = {}\n",
    "# a = []\n",
    "# for i in categories:\n",
    "#     cleaning = \"\".join(re.sub(r\"\\<(.*?)\\>\", \"\", i).split(\">\"))\n",
    "#     #print(cleaning)\n",
    "#     dict_oscars[cleaning] = None\n",
    "#     a.append(cleaning)\n",
    "# #print(dict_oscars)\n",
    "# print(len(a))"
   ]
  },
  {
   "cell_type": "code",
   "execution_count": null,
   "metadata": {},
   "outputs": [],
   "source": []
  },
  {
   "cell_type": "code",
   "execution_count": null,
   "metadata": {},
   "outputs": [],
   "source": []
  },
  {
   "cell_type": "code",
   "execution_count": null,
   "metadata": {},
   "outputs": [],
   "source": []
  },
  {
   "cell_type": "code",
   "execution_count": 10,
   "metadata": {},
   "outputs": [],
   "source": [
    "category_nominee = re.findall(r\"\\<td(.*?)\\</td\\>\", my_table, re.DOTALL)"
   ]
  },
  {
   "cell_type": "code",
   "execution_count": 11,
   "metadata": {},
   "outputs": [],
   "source": [
    "dict_oscars = {}\n",
    "for i in category_nominee:\n",
    "    category_dict = {}\n",
    "    cleaning = \"\".join(re.sub(r\"\\<(.*?)\\>\", \"\", i).split(\">\"))\n",
    "    category_info = cleaning.split(\"\\n\")\n",
    "    category_dict[\"Winner\"]= category_info[2]   \n",
    "    category_dict[\"Nominees\"] =category_info[2:]\n",
    "    dict_oscars[category_info[1]] = category_dict\n",
    "    "
   ]
  },
  {
   "cell_type": "code",
   "execution_count": 12,
   "metadata": {},
   "outputs": [
    {
     "data": {
      "text/plain": [
       "{'Best Picture': {'Winner': 'Green Book – Jim Burke, Charles B. Wessler, Brian Currie, Peter Farrelly and Nick Vallelonga',\n",
       "  'Nominees': ['Green Book – Jim Burke, Charles B. Wessler, Brian Currie, Peter Farrelly and Nick Vallelonga',\n",
       "   'Black Panther – Kevin Feige',\n",
       "   'BlacKkKlansman – Sean McKittrick, Jason Blum, Raymond Mansfield, Jordan Peele and Spike Lee',\n",
       "   'Bohemian Rhapsody – Graham King',\n",
       "   'The Favourite – Ceci Dempsey, Ed Guiney, Lee Magiday and Yorgos Lanthimos',\n",
       "   'Roma – Gabriela Rodríguez and Alfonso Cuarón',\n",
       "   'A Star Is Born – Bill Gerber, Bradley Cooper and Lynette Howell Taylor',\n",
       "   'Vice – Dede Gardner, Jeremy Kleiner, Adam McKay and Kevin J. Messick',\n",
       "   '']},\n",
       " 'Best Director': {'Winner': 'Alfonso Cuarón – Roma',\n",
       "  'Nominees': ['Alfonso Cuarón – Roma',\n",
       "   'Spike Lee – BlacKkKlansman',\n",
       "   'Paweł Pawlikowski – Cold War',\n",
       "   'Yorgos Lanthimos – The Favourite',\n",
       "   'Adam McKay – Vice',\n",
       "   '']},\n",
       " 'Best Actor': {'Winner': 'Rami Malek – Bohemian Rhapsody as Freddie Mercury',\n",
       "  'Nominees': ['Rami Malek – Bohemian Rhapsody as Freddie Mercury',\n",
       "   'Christian Bale – Vice as Dick Cheney',\n",
       "   'Bradley Cooper – A Star Is Born as Jackson \"Jack\" Maine',\n",
       "   \"Willem Dafoe – At Eternity's Gate as Vincent van Gogh\",\n",
       "   'Viggo Mortensen – Green Book as Frank \"Tony Lip\" Vallelonga',\n",
       "   '']},\n",
       " 'Best Actress': {'Winner': 'Olivia Colman – The Favourite as Anne, Queen of Great Britain',\n",
       "  'Nominees': ['Olivia Colman – The Favourite as Anne, Queen of Great Britain',\n",
       "   'Yalitza Aparicio – Roma as Cleodegaria \"Cleo\" Gutiérrez',\n",
       "   'Glenn Close – The Wife as Joan Castleman',\n",
       "   'Lady Gaga – A Star Is Born as Ally Maine',\n",
       "   'Melissa McCarthy – Can You Ever Forgive Me? as Lee Israel',\n",
       "   '']},\n",
       " 'Best Supporting Actor': {'Winner': 'Mahershala Ali – Green Book as Don Shirley',\n",
       "  'Nominees': ['Mahershala Ali – Green Book as Don Shirley',\n",
       "   'Adam Driver – BlacKkKlansman as Philip \"Flip\" Zimmerman',\n",
       "   'Sam Elliott – A Star Is Born as Bobby Maine',\n",
       "   'Richard E. Grant – Can You Ever Forgive Me? as Jack Hock',\n",
       "   'Sam Rockwell – Vice as George W. Bush',\n",
       "   '']},\n",
       " 'Best Supporting Actress': {'Winner': 'Regina King – If Beale Street Could Talk as Sharon Rivers',\n",
       "  'Nominees': ['Regina King – If Beale Street Could Talk as Sharon Rivers',\n",
       "   'Amy Adams – Vice as Lynne Cheney',\n",
       "   'Marina de Tavira – Roma as Sofía',\n",
       "   'Emma Stone – The Favourite as Abigail Masham',\n",
       "   'Rachel Weisz – The Favourite as Sarah Churchill',\n",
       "   '']},\n",
       " 'Best Original Screenplay': {'Winner': 'Green Book – Written by Nick Vallelonga, Brian Currie and Peter Farrelly',\n",
       "  'Nominees': ['Green Book – Written by Nick Vallelonga, Brian Currie and Peter Farrelly',\n",
       "   'The Favourite – Written by Deborah Davis and Tony McNamara',\n",
       "   'First Reformed – Written by Paul Schrader',\n",
       "   'Roma – Written by Alfonso Cuarón',\n",
       "   'Vice – Written by Adam McKay',\n",
       "   '']},\n",
       " 'Best Adapted Screenplay': {'Winner': 'BlacKkKlansman – Screenplay by Charlie Wachtel, David Rabinowitz, Kevin Willmott and Spike Lee (based on the book by Ron Stallworth)',\n",
       "  'Nominees': ['BlacKkKlansman – Screenplay by Charlie Wachtel, David Rabinowitz, Kevin Willmott and Spike Lee (based on the book by Ron Stallworth)',\n",
       "   'The Ballad of Buster Scruggs – Screenplay by Joel Coen and Ethan Coen (All Gold Canyon is based on a story by Jack London; The Gal Who Got Rattled is inspired by a story by Stewart Edward White)',\n",
       "   'Can You Ever Forgive Me? – Screenplay by Nicole Holofcener and Jeff Whitty (based on the memoir by Lee Israel)',\n",
       "   'If Beale Street Could Talk – Screenplay by Barry Jenkins (based on the book by James Baldwin)',\n",
       "   'A Star Is Born – Screenplay by Eric Roth, Bradley Cooper and Will Fetters (based on the 1954 screenplay by Moss Hart and 1976 screenplay by Joan Didion, John Gregory Dunne and Frank Pierson; based on a 1937 story by Robert Carson and William A. Wellman)',\n",
       "   '']},\n",
       " 'Best Animated Feature Film': {'Winner': 'Spider-Man: Into the Spider-Verse – Bob Persichetti, Peter Ramsey, Rodney Rothman, Phil Lord and Christopher Miller',\n",
       "  'Nominees': ['Spider-Man: Into the Spider-Verse – Bob Persichetti, Peter Ramsey, Rodney Rothman, Phil Lord and Christopher Miller',\n",
       "   'Incredibles 2 – Brad Bird, John Walker and Nicole Paradis Grindle',\n",
       "   'Isle of Dogs – Wes Anderson, Scott Rudin, Steven Rales and Jeremy Dawson',\n",
       "   'Mirai – Mamoru Hosoda and Yūichirō Saitō',\n",
       "   'Ralph Breaks the Internet – Rich Moore, Phil Johnston and Clark Spencer',\n",
       "   '']},\n",
       " 'Best Foreign Language Film': {'Winner': 'Roma (Mexico) in Spanish and Mixtec – Directed by Alfonso Cuarón',\n",
       "  'Nominees': ['Roma (Mexico) in Spanish and Mixtec – Directed by Alfonso Cuarón',\n",
       "   'Capernaum (Lebanon) in Arabic — Directed by Nadine Labaki',\n",
       "   'Cold War (Poland) in Polish and French – Directed by Paweł Pawlikowski',\n",
       "   'Never Look Away (Germany) in German – Directed by Florian Henckel von Donnersmarck',\n",
       "   'Shoplifters (Japan) in Japanese – Directed by Hirokazu Kore-eda',\n",
       "   '']},\n",
       " 'Best Documentary – Feature': {'Winner': 'Free Solo – Elizabeth Chai Vasarhelyi, Jimmy Chin, Evan Hayes and Shannon Dill',\n",
       "  'Nominees': ['Free Solo – Elizabeth Chai Vasarhelyi, Jimmy Chin, Evan Hayes and Shannon Dill',\n",
       "   'Hale County This Morning, This Evening&#160;– RaMell Ross, Joslyn Barnes and Su Kim',\n",
       "   'Minding the Gap&#160;– Bing Liu and Diane Quon',\n",
       "   'Of Fathers and Sons&#160;– Talal Derki, Ansgar Frerich, Eva Kemme and Tobias N. Siebert',\n",
       "   'RBG – Betsy West and Julie Cohen',\n",
       "   '']},\n",
       " 'Best Documentary – Short Subject': {'Winner': 'Period. End of Sentence.&#160;– Rayka Zehtabchi and Melissa Berton',\n",
       "  'Nominees': ['Period. End of Sentence.&#160;– Rayka Zehtabchi and Melissa Berton',\n",
       "   'Black Sheep&#160;– Ed Perkins and Jonathan Chinn',\n",
       "   'End Game&#160;– Rob Epstein and Jeffrey Friedman',\n",
       "   'Lifeboat&#160;– Skye Fitzgerald and Bryn Mooser',\n",
       "   'A Night at the Garden&#160;– Marshall Curry',\n",
       "   '']},\n",
       " 'Best Live Action Short Film': {'Winner': 'Skin&#160;– Guy Nattiv and Jaime Ray Newman',\n",
       "  'Nominees': ['Skin&#160;– Guy Nattiv and Jaime Ray Newman',\n",
       "   'Detainment&#160;– Vincent Lambe and Darren Mahon',\n",
       "   'Fauve&#160;– Jérémy Comte and Maria Gracia Turgeon',\n",
       "   'Marguerite&#160;– Marianne Farley and Marie-Hélène Panisset',\n",
       "   'Mother&#160;– Rodrigo Sorogoyen and María del Puy Alvarado',\n",
       "   '']},\n",
       " 'Best Animated Short Film': {'Winner': 'Bao&#160;– Domee Shi and Becky Neiman-Cobb',\n",
       "  'Nominees': ['Bao&#160;– Domee Shi and Becky Neiman-Cobb',\n",
       "   'Animal Behaviour&#160;– Alison Snowden and David Fine',\n",
       "   'Late Afternoon&#160;– Louise Bagnall and Nuria González Blanco',\n",
       "   'One Small Step&#160;– Andrew Chesworth and Bobby Pontillas',\n",
       "   'Weekends&#160;– Trevor Jimenez',\n",
       "   '']},\n",
       " 'Best Original Score': {'Winner': 'Black Panther – Ludwig Göransson',\n",
       "  'Nominees': ['Black Panther – Ludwig Göransson',\n",
       "   'BlacKkKlansman – Terence Blanchard',\n",
       "   'If Beale Street Could Talk – Nicholas Britell',\n",
       "   'Isle of Dogs – Alexandre Desplat',\n",
       "   'Mary Poppins Returns – Marc Shaiman',\n",
       "   '']},\n",
       " 'Best Original Song': {'Winner': '\"Shallow\" from A Star Is Born – Music and Lyrics by Lady Gaga, Mark Ronson, Anthony Rossomando and Andrew Wyatt',\n",
       "  'Nominees': ['\"Shallow\" from A Star Is Born – Music and Lyrics by Lady Gaga, Mark Ronson, Anthony Rossomando and Andrew Wyatt',\n",
       "   '\"All the Stars\" from Black Panther – Music by Mark Spears, Kendrick Lamar Duckworth and Anthony Tiffith; Lyrics by Kendrick Lamar Duckworth, Anthony Tiffith and Solána Rowe',\n",
       "   '\"I\\'ll Fight\" from RBG – Music and Lyrics by Diane Warren',\n",
       "   '\"The Place Where Lost Things Go\" from Mary Poppins Returns – Music by Marc Shaiman; Lyrics by Marc Shaiman and Scott Wittman',\n",
       "   '\"When a Cowboy Trades His Spurs for Wings\" from The Ballad of Buster Scruggs – Music and Lyrics by David Rawlings and Gillian Welch',\n",
       "   '']},\n",
       " 'Best Sound Editing': {'Winner': 'Bohemian Rhapsody – John Warhurst and Nina Hartstone',\n",
       "  'Nominees': ['Bohemian Rhapsody – John Warhurst and Nina Hartstone',\n",
       "   'Black Panther – Benjamin A. Burtt and Steve Boeddeker',\n",
       "   'First Man – Ai-Ling Lee and Mildred Iatrou Morgan',\n",
       "   'A Quiet Place – Ethan Van der Ryn and Erik Aadahl',\n",
       "   'Roma – Sergio Díaz and Skip Lievsay',\n",
       "   '']},\n",
       " 'Best Sound Mixing': {'Winner': 'Bohemian Rhapsody – Paul Massey, Tim Cavagin and John Casali',\n",
       "  'Nominees': ['Bohemian Rhapsody – Paul Massey, Tim Cavagin and John Casali',\n",
       "   'Black Panther – Steve Boeddeker, Brandon Proctor and Peter J. Devlin',\n",
       "   'First Man – Jon Taylor, Frank A. Montaño, Ai-Ling Lee and Mary H. Ellis',\n",
       "   'Roma – Skip Lievsay, Craig Henighan and José Antonio Garcia',\n",
       "   'A Star Is Born – Tom Ozanich, Dean A. Zupancic, Jason Ruder and Steve A. Morrow',\n",
       "   '']},\n",
       " 'Best Production Design': {'Winner': 'Black Panther – Production Design: Hannah Beachler; Set Decoration: Jay Hart',\n",
       "  'Nominees': ['Black Panther – Production Design: Hannah Beachler; Set Decoration: Jay Hart',\n",
       "   'The Favourite – Production Design: Fiona Crombie; Set Decoration: Alice Felton',\n",
       "   'First Man – Production Design: Nathan Crowley; Set Decoration: Kathy Lucas',\n",
       "   'Mary Poppins Returns – Production Design: John Myhre; Set Decoration: Gordon Sim',\n",
       "   'Roma – Production Design: Eugenio Caballero; Set Decoration: Bárbara Enríquez',\n",
       "   '']},\n",
       " 'Best Cinematography': {'Winner': 'Roma – Alfonso Cuarón',\n",
       "  'Nominees': ['Roma – Alfonso Cuarón',\n",
       "   'Cold War – Łukasz Żal',\n",
       "   'The Favourite – Robbie Ryan',\n",
       "   'Never Look Away – Caleb Deschanel',\n",
       "   'A Star Is Born – Matthew Libatique',\n",
       "   '']},\n",
       " 'Best Makeup and Hairstyling': {'Winner': 'Vice – Greg Cannom, Kate Biscoe and Patricia Dehaney',\n",
       "  'Nominees': ['Vice – Greg Cannom, Kate Biscoe and Patricia Dehaney',\n",
       "   'Border – Göran Lundström and Pamela Goldammer',\n",
       "   'Mary Queen of Scots – Jenny Shircore, Marc Pilcher and Jessica Brooks',\n",
       "   '']},\n",
       " 'Best Costume Design': {'Winner': 'Black Panther – Ruth E. Carter',\n",
       "  'Nominees': ['Black Panther – Ruth E. Carter',\n",
       "   'The Ballad of Buster Scruggs – Mary Zophres',\n",
       "   'The Favourite – Sandy Powell',\n",
       "   'Mary Poppins Returns – Sandy Powell',\n",
       "   'Mary Queen of Scots – Alexandra Byrne',\n",
       "   '']},\n",
       " 'Best Film Editing': {'Winner': 'Bohemian Rhapsody – John Ottman',\n",
       "  'Nominees': ['Bohemian Rhapsody – John Ottman',\n",
       "   'BlacKkKlansman – Barry Alexander Brown',\n",
       "   'The Favourite – Yorgos Mavropsaridis',\n",
       "   'Green Book – Patrick J. Don Vito',\n",
       "   'Vice – Hank Corwin',\n",
       "   '']},\n",
       " 'Best Visual Effects': {'Winner': 'First Man – Paul Lambert, Ian Hunter, Tristan Myles and J. D. Schwalm',\n",
       "  'Nominees': ['First Man – Paul Lambert, Ian Hunter, Tristan Myles and J. D. Schwalm',\n",
       "   'Avengers: Infinity War – Dan DeLeeuw, Kelly Port, Russell Earl and Dan Sudick',\n",
       "   'Christopher Robin – Christopher Lawrence, Michael Eames, Theo Jones and Chris Corbould',\n",
       "   'Ready Player One – Roger Guyett, Grady Cofer, Matthew E. Butler and David Shirk',\n",
       "   'Solo: A Star Wars Story – Rob Bredow, Patrick Tubach, Neal Scanlan and Dominic Tuohy',\n",
       "   '']}}"
      ]
     },
     "execution_count": 12,
     "metadata": {},
     "output_type": "execute_result"
    }
   ],
   "source": [
    "dict_oscars\n"
   ]
  },
  {
   "cell_type": "code",
   "execution_count": null,
   "metadata": {},
   "outputs": [],
   "source": []
  },
  {
   "cell_type": "code",
   "execution_count": null,
   "metadata": {},
   "outputs": [],
   "source": []
  },
  {
   "cell_type": "code",
   "execution_count": null,
   "metadata": {},
   "outputs": [],
   "source": []
  },
  {
   "cell_type": "code",
   "execution_count": null,
   "metadata": {},
   "outputs": [],
   "source": []
  },
  {
   "cell_type": "code",
   "execution_count": null,
   "metadata": {},
   "outputs": [],
   "source": []
  },
  {
   "cell_type": "code",
   "execution_count": null,
   "metadata": {},
   "outputs": [],
   "source": []
  }
 ],
 "metadata": {
  "kernelspec": {
   "display_name": "Python 3",
   "language": "python",
   "name": "python3"
  },
  "language_info": {
   "codemirror_mode": {
    "name": "ipython",
    "version": 3
   },
   "file_extension": ".py",
   "mimetype": "text/x-python",
   "name": "python",
   "nbconvert_exporter": "python",
   "pygments_lexer": "ipython3",
   "version": "3.6.5"
  }
 },
 "nbformat": 4,
 "nbformat_minor": 2
}
